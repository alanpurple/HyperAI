{
 "cells": [
  {
   "cell_type": "code",
   "execution_count": null,
   "id": "f86561cb-ef7f-484d-bc2d-9cd3a2d35399",
   "metadata": {},
   "outputs": [],
   "source": [
    "import pandas as pd\n",
    "from sqlalchemy import Table, MetaData,Inspect\n",
    "from sqlalchemy.orm import load_only\n",
    "from sklearn.linear_model import ElasticNetCV\n",
    "\n",
    "from lr_pb2 import LrResponse\n",
    "from lr_pb2_grpc import LrServicer\n",
    "from connectdb import getAll\n",
    "from connectdb_open import getAll as getAllOpen"
   ]
  },
  {
   "cell_type": "code",
   "execution_count": 2,
   "id": "d146c59b-ac94-4b0a-b3cc-8adfa7cbd06d",
   "metadata": {},
   "outputs": [],
   "source": [
    "engine, session, Base=getAll()"
   ]
  },
  {
   "cell_type": "code",
   "execution_count": 5,
   "id": "876ef575-6f25-4907-9d7c-3eb565c2e001",
   "metadata": {},
   "outputs": [
    {
     "name": "stderr",
     "output_type": "stream",
     "text": [
      "<ipython-input-5-d72bc75a6b62>:1: SADeprecationWarning: The Engine.table_names() method is deprecated and will be removed in a future release.  Please refer to Inspector.get_table_names(). (deprecated since: 1.4)\n",
      "  engine.table_names()\n"
     ]
    },
    {
     "data": {
      "text/plain": [
       "['denseds', 'some1']"
      ]
     },
     "execution_count": 5,
     "metadata": {},
     "output_type": "execute_result"
    }
   ],
   "source": [
    "engine.table_names()"
   ]
  },
  {
   "cell_type": "code",
   "execution_count": 3,
   "id": "6aaedc5f-143d-45d3-b506-3ea94e94be20",
   "metadata": {},
   "outputs": [],
   "source": [
    " meta=MetaData()"
   ]
  },
  {
   "cell_type": "code",
   "execution_count": 4,
   "id": "89f77004-cd26-4c9b-b42e-ec4b297444ff",
   "metadata": {},
   "outputs": [],
   "source": [
    "data=Table('denseds', meta, autoload_with=engine)"
   ]
  },
  {
   "cell_type": "code",
   "execution_count": 7,
   "id": "8049a12e-46ec-4753-8069-9c241584926d",
   "metadata": {},
   "outputs": [],
   "source": [
    "df=pd.read_sql(q.statement,engine)"
   ]
  },
  {
   "cell_type": "code",
   "execution_count": 24,
   "id": "00c6f3fd-8753-4bef-a4e3-ed6299accd21",
   "metadata": {},
   "outputs": [
    {
     "data": {
      "text/plain": [
       "Column('feat4', DOUBLE(asdecimal=True), table=<denseds>)"
      ]
     },
     "execution_count": 24,
     "metadata": {},
     "output_type": "execute_result"
    }
   ],
   "source": [
    "data.columns['feat4']"
   ]
  },
  {
   "cell_type": "code",
   "execution_count": 28,
   "id": "0f25e967-5cb7-417d-9e97-a5f5f73acbe3",
   "metadata": {},
   "outputs": [],
   "source": [
    " q=session.query(data.columns['feat2'],data.columns['feat4'])"
   ]
  },
  {
   "cell_type": "code",
   "execution_count": 29,
   "id": "160b20dd-8ec2-4bb6-be4d-3955409e33f5",
   "metadata": {},
   "outputs": [],
   "source": [
    "session.close()\n",
    "df=pd.read_sql(q.statement,engine)"
   ]
  },
  {
   "cell_type": "code",
   "execution_count": 21,
   "id": "b63ac63c-6776-49b5-a2b0-a377c943a454",
   "metadata": {},
   "outputs": [
    {
     "data": {
      "text/plain": [
       "Column('feat2', DOUBLE(asdecimal=True), table=<denseds>)"
      ]
     },
     "execution_count": 21,
     "metadata": {},
     "output_type": "execute_result"
    }
   ],
   "source": [
    "data.columns['feat2']"
   ]
  },
  {
   "cell_type": "code",
   "execution_count": 30,
   "id": "be42f325-42b9-4a67-9b3b-c2163e6b84cc",
   "metadata": {},
   "outputs": [
    {
     "data": {
      "text/html": [
       "<div>\n",
       "<style scoped>\n",
       "    .dataframe tbody tr th:only-of-type {\n",
       "        vertical-align: middle;\n",
       "    }\n",
       "\n",
       "    .dataframe tbody tr th {\n",
       "        vertical-align: top;\n",
       "    }\n",
       "\n",
       "    .dataframe thead th {\n",
       "        text-align: right;\n",
       "    }\n",
       "</style>\n",
       "<table border=\"1\" class=\"dataframe\">\n",
       "  <thead>\n",
       "    <tr style=\"text-align: right;\">\n",
       "      <th></th>\n",
       "      <th>feat2</th>\n",
       "      <th>feat4</th>\n",
       "    </tr>\n",
       "  </thead>\n",
       "  <tbody>\n",
       "    <tr>\n",
       "      <th>0</th>\n",
       "      <td>-1.099041</td>\n",
       "      <td>-1.325430</td>\n",
       "    </tr>\n",
       "    <tr>\n",
       "      <th>1</th>\n",
       "      <td>-0.821221</td>\n",
       "      <td>0.761627</td>\n",
       "    </tr>\n",
       "    <tr>\n",
       "      <th>2</th>\n",
       "      <td>0.457780</td>\n",
       "      <td>0.733800</td>\n",
       "    </tr>\n",
       "    <tr>\n",
       "      <th>3</th>\n",
       "      <td>-1.332120</td>\n",
       "      <td>0.625467</td>\n",
       "    </tr>\n",
       "    <tr>\n",
       "      <th>4</th>\n",
       "      <td>-0.180233</td>\n",
       "      <td>-0.022459</td>\n",
       "    </tr>\n",
       "    <tr>\n",
       "      <th>...</th>\n",
       "      <td>...</td>\n",
       "      <td>...</td>\n",
       "    </tr>\n",
       "    <tr>\n",
       "      <th>5995</th>\n",
       "      <td>-0.643542</td>\n",
       "      <td>1.212042</td>\n",
       "    </tr>\n",
       "    <tr>\n",
       "      <th>5996</th>\n",
       "      <td>-0.086880</td>\n",
       "      <td>-0.537014</td>\n",
       "    </tr>\n",
       "    <tr>\n",
       "      <th>5997</th>\n",
       "      <td>-1.151454</td>\n",
       "      <td>1.168552</td>\n",
       "    </tr>\n",
       "    <tr>\n",
       "      <th>5998</th>\n",
       "      <td>-1.936362</td>\n",
       "      <td>-0.474332</td>\n",
       "    </tr>\n",
       "    <tr>\n",
       "      <th>5999</th>\n",
       "      <td>0.651170</td>\n",
       "      <td>-0.352962</td>\n",
       "    </tr>\n",
       "  </tbody>\n",
       "</table>\n",
       "<p>6000 rows × 2 columns</p>\n",
       "</div>"
      ],
      "text/plain": [
       "         feat2     feat4\n",
       "0    -1.099041 -1.325430\n",
       "1    -0.821221  0.761627\n",
       "2     0.457780  0.733800\n",
       "3    -1.332120  0.625467\n",
       "4    -0.180233 -0.022459\n",
       "...        ...       ...\n",
       "5995 -0.643542  1.212042\n",
       "5996 -0.086880 -0.537014\n",
       "5997 -1.151454  1.168552\n",
       "5998 -1.936362 -0.474332\n",
       "5999  0.651170 -0.352962\n",
       "\n",
       "[6000 rows x 2 columns]"
      ]
     },
     "execution_count": 30,
     "metadata": {},
     "output_type": "execute_result"
    }
   ],
   "source": [
    "df"
   ]
  },
  {
   "cell_type": "code",
   "execution_count": null,
   "id": "90ad2fc3-0dac-495f-a33c-2e22ae473519",
   "metadata": {},
   "outputs": [],
   "source": []
  }
 ],
 "metadata": {
  "kernelspec": {
   "display_name": "Python 3",
   "language": "python",
   "name": "python3"
  },
  "language_info": {
   "codemirror_mode": {
    "name": "ipython",
    "version": 3
   },
   "file_extension": ".py",
   "mimetype": "text/x-python",
   "name": "python",
   "nbconvert_exporter": "python",
   "pygments_lexer": "ipython3",
   "version": "3.9.6"
  }
 },
 "nbformat": 4,
 "nbformat_minor": 5
}
